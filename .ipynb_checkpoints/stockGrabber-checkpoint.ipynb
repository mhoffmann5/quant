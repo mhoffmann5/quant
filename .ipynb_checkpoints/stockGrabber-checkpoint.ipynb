{
 "cells": [
  {
   "cell_type": "code",
   "execution_count": 1,
   "metadata": {},
   "outputs": [],
   "source": [
    "import pandas,requests,webbrowser, os\n",
    "from selenium import webdriver\n",
    "from datetime import datetime,timedelta\n",
    "import math,time\n",
    "\n",
    "\n",
    "\n",
    "#########################################################################\n",
    "# This method creates the url and downloads csv file of historical data #\n",
    "# from current data - period to current date                            #\n",
    "#                                                                       #\n",
    "#Period = length in time(years)                                         #\n",
    "#ticker = stock ticker     \n",
    "#Use this method to import any NEW stock information\n",
    "#########################################################################\n",
    "\n",
    "#need to define default period length\n",
    "def new_stockInfo(ticker):\n",
    "    today = datetime.now()  \n",
    "    \n",
    "    d = datetime.today() - timedelta(days=period+1)\n",
    "    period1 = str(math.floor(time.mktime(d.timetuple())))\n",
    "    period2 = str(math.floor(time.mktime(today.timetuple())))\n",
    "    \n",
    "    url = 'https://query1.finance.yahoo.com/v7/finance/download/' + ticker +'?period1=' + period1 + '&period2='  + period2 + '&interval=1d&events=history&crumb=asWErdHh1vL'\n",
    "    return url\n",
    "\n",
    "\n",
    "def update_stockInfo(ticker):\n",
    "    ##use beautiful soup to get the first entry\n",
    "    "
   ]
  },
  {
   "cell_type": "code",
   "execution_count": 17,
   "metadata": {
    "scrolled": true
   },
   "outputs": [],
   "source": [
    "\n",
    "\n",
    "\n",
    "#check if ticker exists\n",
    "#case1 if exist,only update information\n",
    "#case2 need to download link using url_builder method\n",
    "def checkExisting(ticker):\n",
    "    #ask Ryan what our default stock ticker informaiton\n",
    "    \n",
    "def ticker_info(thisList = None, thisTicker = None):\n",
    "    \n",
    "    #create folder to hold stock data if not yet created \n",
    "    if not os.path.exists(os.path.join(os.getcwd(),'stock_info')):\n",
    "         os.makedirs('stock_info')\n",
    "    \n",
    "    #check whether to use list or just singular ticker\n",
    "    if thisList != None:\n",
    "        for ticker in thisList:\n",
    "            checkExisting(ticker)\n",
    "    else:\n",
    "        checkExisting(thisTicker)\n",
    "    \n",
    "\n",
    "\n",
    "\n",
    "\n"
   ]
  }
 ],
 "metadata": {
  "kernelspec": {
   "display_name": "Python 3",
   "language": "python",
   "name": "python3"
  },
  "language_info": {
   "codemirror_mode": {
    "name": "ipython",
    "version": 3
   },
   "file_extension": ".py",
   "mimetype": "text/x-python",
   "name": "python",
   "nbconvert_exporter": "python",
   "pygments_lexer": "ipython3",
   "version": "3.7.3"
  }
 },
 "nbformat": 4,
 "nbformat_minor": 2
}
