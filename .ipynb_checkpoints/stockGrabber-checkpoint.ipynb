{
 "cells": [
  {
   "cell_type": "code",
   "execution_count": 14,
   "metadata": {},
   "outputs": [],
   "source": [
    "from datetime import datetime\n",
    "import math,time\n",
    "\n",
    "#########################################################################\n",
    "# This method creates the url and downloads csv file of historical data #\n",
    "# from current data - period to current date                            #\n",
    "#                                                                       #\n",
    "#Period = length in time(years)                                         #\n",
    "#ticker = stock ticker                                                  #\n",
    "#########################################################################\n",
    "\n",
    "def url_builder(period,ticker):\n",
    "    today = datetime.now()  \n",
    "    periodAgo = datetime(today.year -period+1, today.month,today.day)\n",
    "    period1 = str(math.floor(time.mktime(periodAgo.timetuple())))\n",
    "    period2 = str(math.floor(time.mktime(today.timetuple())))\n",
    "    \n",
    "    url = 'query1.finance.yahoo.com/v7/finance/download/' + ticker +'?period1=' + period1 + '&period2='  + period2 + '&interval=1d&events=history&crumb=asWErdHh1vL'\n",
    "    return url\n",
    "    "
   ]
  },
  {
   "cell_type": "code",
   "execution_count": 16,
   "metadata": {},
   "outputs": [
    {
     "data": {
      "text/plain": [
       "'query1.finance.yahoo.com/v7/finance/download/goog?period1=1434603600&period2=1560890885&interval=1d&events=history&crumb=asWErdHh1vL'"
      ]
     },
     "execution_count": 16,
     "metadata": {},
     "output_type": "execute_result"
    }
   ],
   "source": [
    "url_builder(5,\"goog\")\n",
    "\n",
    "\n",
    "####next figure out what to do with csv file for ryan#####"
   ]
  },
  {
   "cell_type": "code",
   "execution_count": null,
   "metadata": {},
   "outputs": [],
   "source": []
  }
 ],
 "metadata": {
  "kernelspec": {
   "display_name": "Python 3",
   "language": "python",
   "name": "python3"
  },
  "language_info": {
   "codemirror_mode": {
    "name": "ipython",
    "version": 3
   },
   "file_extension": ".py",
   "mimetype": "text/x-python",
   "name": "python",
   "nbconvert_exporter": "python",
   "pygments_lexer": "ipython3",
   "version": "3.7.3"
  }
 },
 "nbformat": 4,
 "nbformat_minor": 2
}
