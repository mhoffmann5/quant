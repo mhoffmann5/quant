{
 "cells": [
  {
   "cell_type": "code",
   "execution_count": 87,
   "metadata": {},
   "outputs": [],
   "source": [
    "# Hoff is a virgin (.Y.)\n",
    "\n",
    "import pandas as pd\n",
    "import requests\n",
    "from bs4 import BeautifulSoup\n",
    "from tabulate import tabulate\n",
    "import numpy as np\n",
    "\n",
    "incomeStatment = requests.get(\"https://finance.yahoo.com/quote/BABA/financials/\")\n",
    "income = BeautifulSoup(incomeStatment.content,'lxml')\n",
    "incStatement = income.find_all('table')[0]\n",
    "df = pd.read_html(str(incStatement))\n",
    "IS = df[0]\n",
    "\n",
    "cashFlows = requests.get(\"https://finance.yahoo.com/quote/BABA/cash-flow?p=BABA\")\n",
    "cfs = BeautifulSoup(cashFlows.content,'lxml')\n",
    "cflows = cfs.find_all('table')[0]\n",
    "df_FCF = pd.read_html(str(cflows))\n",
    "CF = df_FCF[0]"
   ]
  },
  {
   "cell_type": "code",
   "execution_count": 102,
   "metadata": {},
   "outputs": [
    {
     "name": "stdout",
     "output_type": "stream",
     "text": [
      "standard deviation of growth:  3.24 %\n",
      "Compound Annual Revenue Growth Rate =  55.03 %\n"
     ]
    }
   ],
   "source": [
    "rev = []\n",
    "revGrowth = []\n",
    "\n",
    "for r in range(1, 5):\n",
    "    rev.append(int(IS[r][1]))\n",
    "    \n",
    "for i in range(len(rev) - 1):\n",
    "    growth = ((rev[i] - rev[i+1]) / rev[i+1])\n",
    "    revGrowth.append((growth))\n",
    "    \n",
    "print(\"standard deviation of growth: \", round(np.std(revGrowth)*100, 2), \"%\")\n",
    "\n",
    "geoProd = 1\n",
    "for t in range(len(revGrowth)):\n",
    "    geoProd = geoProd * (1+revGrowth[t])\n",
    "    \n",
    "geoRevGrowth = round(((geoProd)**(1/len(revGrowth)) - 1) * 100, 2)\n",
    "\n",
    "print(\"Compound Annual Revenue Growth Rate = \", geoRevGrowth, \"%\")"
   ]
  },
  {
   "cell_type": "code",
   "execution_count": 101,
   "metadata": {},
   "outputs": [
    {
     "name": "stdout",
     "output_type": "stream",
     "text": [
      "standard deviation of growth:  38.3 %\n",
      "Compound Annual NI Growth Rate =  7.14 %\n"
     ]
    }
   ],
   "source": [
    "NI = []\n",
    "NIGrowth = []\n",
    "\n",
    "for r in range(1, 5):\n",
    "    NI.append(int(IS[r][25]))\n",
    "    \n",
    "for i in range(len(rev) - 1):\n",
    "    growth = ((NI[i] - NI[i+1]) / NI[i+1])\n",
    "    NIGrowth.append((growth))\n",
    "\n",
    "print(\"standard deviation of growth: \", round(np.std(NIGrowth)*100, 2), \"%\")\n",
    "    \n",
    "geoProd = 1\n",
    "for t in range(len(NIGrowth)):\n",
    "    geoProd = geoProd * (NIGrowth[t]+1)\n",
    "    \n",
    "geoNIGrowth = round(((geoProd)**(1/len(NIGrowth)) - 1) * 100, 2)\n",
    "\n",
    "print(\"Compound Annual NI Growth Rate = \", geoNIGrowth, \"%\")"
   ]
  },
  {
   "cell_type": "code",
   "execution_count": 98,
   "metadata": {},
   "outputs": [
    {
     "name": "stdout",
     "output_type": "stream",
     "text": [
      "[150975000, 125805000, 82854000, 56836000]\n",
      "standard deviation of growth:  13.8 %\n",
      "Compound Annual Revenue Growth Rate =  38.49 %\n"
     ]
    }
   ],
   "source": [
    "FCF = []\n",
    "FCFGrowth = []\n",
    "\n",
    "for r in range(1, 5):\n",
    "    FCF.append(int(CF[r][9]))\n",
    "print(FCF)\n",
    "\n",
    "for i in range(len(FCF) - 1):\n",
    "    growth = ((FCF[i] - FCF[i+1]) / FCF[i+1])\n",
    "    FCFGrowth.append((growth))\n",
    "    \n",
    "print(\"standard deviation of growth: \", round(np.std(FCFGrowth)*100, 2), \"%\")\n",
    "\n",
    "geoProd = 1\n",
    "for t in range(len(FCFGrowth)):\n",
    "    geoProd = geoProd * (FCFGrowth[t]+1)\n",
    " \n",
    "geoFCFGrowth = round(((geoProd)**(1/len(FCFGrowth)) - 1) * 100,2)\n",
    "\n",
    "print(\"Compound Annual Revenue Growth Rate = \", geoFCFGrowth, \"%\")"
   ]
  },
  {
   "cell_type": "code",
   "execution_count": null,
   "metadata": {},
   "outputs": [],
   "source": [
    "# margins growth, book value growth, sustainable growth"
   ]
  }
 ],
 "metadata": {
  "kernelspec": {
   "display_name": "Python 3",
   "language": "python",
   "name": "python3"
  },
  "language_info": {
   "codemirror_mode": {
    "name": "ipython",
    "version": 3
   },
   "file_extension": ".py",
   "mimetype": "text/x-python",
   "name": "python",
   "nbconvert_exporter": "python",
   "pygments_lexer": "ipython3",
   "version": "3.7.0"
  }
 },
 "nbformat": 4,
 "nbformat_minor": 2
}
